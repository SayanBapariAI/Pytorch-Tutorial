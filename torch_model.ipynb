{
  "nbformat": 4,
  "nbformat_minor": 0,
  "metadata": {
    "colab": {
      "provenance": [],
      "mount_file_id": "1Spi3UOcPmcZKPUYPSNHJiTFLZazuxqg0",
      "authorship_tag": "ABX9TyPvzOJ4RcjGYLk03gjgsXaF",
      "include_colab_link": true
    },
    "kernelspec": {
      "name": "python3",
      "display_name": "Python 3"
    },
    "language_info": {
      "name": "python"
    }
  },
  "cells": [
    {
      "cell_type": "markdown",
      "metadata": {
        "id": "view-in-github",
        "colab_type": "text"
      },
      "source": [
        "<a href=\"https://colab.research.google.com/github/SayanBapariAI/Pytorch-Tutorial/blob/main/torch_model.ipynb\" target=\"_parent\"><img src=\"https://colab.research.google.com/assets/colab-badge.svg\" alt=\"Open In Colab\"/></a>"
      ]
    },
    {
      "cell_type": "markdown",
      "source": [
        "# Model from scratch"
      ],
      "metadata": {
        "id": "rR3Iy82V_HLR"
      }
    },
    {
      "cell_type": "code",
      "execution_count": null,
      "metadata": {
        "id": "Z_PF7rzBVi1U"
      },
      "outputs": [],
      "source": [
        "import torch\n",
        "from torch import nn\n",
        "import matplotlib.pyplot as plt\n",
        "import numpy as np"
      ]
    },
    {
      "cell_type": "code",
      "source": [
        "w = 0.7\n",
        "b = 0.3\n",
        "\n",
        "X = torch.arange(0,1,0.02).unsqueeze(1)"
      ],
      "metadata": {
        "id": "4Q2EjLddmE0r"
      },
      "execution_count": null,
      "outputs": []
    },
    {
      "cell_type": "code",
      "source": [
        "y = (w * X + b)\n",
        "y\n"
      ],
      "metadata": {
        "colab": {
          "base_uri": "https://localhost:8080/"
        },
        "id": "DfwmrKUcmSUu",
        "outputId": "3e2e68b0-36b8-4861-cf09-16609870bee9"
      },
      "execution_count": null,
      "outputs": [
        {
          "output_type": "execute_result",
          "data": {
            "text/plain": [
              "tensor([[0.3000],\n",
              "        [0.3140],\n",
              "        [0.3280],\n",
              "        [0.3420],\n",
              "        [0.3560],\n",
              "        [0.3700],\n",
              "        [0.3840],\n",
              "        [0.3980],\n",
              "        [0.4120],\n",
              "        [0.4260],\n",
              "        [0.4400],\n",
              "        [0.4540],\n",
              "        [0.4680],\n",
              "        [0.4820],\n",
              "        [0.4960],\n",
              "        [0.5100],\n",
              "        [0.5240],\n",
              "        [0.5380],\n",
              "        [0.5520],\n",
              "        [0.5660],\n",
              "        [0.5800],\n",
              "        [0.5940],\n",
              "        [0.6080],\n",
              "        [0.6220],\n",
              "        [0.6360],\n",
              "        [0.6500],\n",
              "        [0.6640],\n",
              "        [0.6780],\n",
              "        [0.6920],\n",
              "        [0.7060],\n",
              "        [0.7200],\n",
              "        [0.7340],\n",
              "        [0.7480],\n",
              "        [0.7620],\n",
              "        [0.7760],\n",
              "        [0.7900],\n",
              "        [0.8040],\n",
              "        [0.8180],\n",
              "        [0.8320],\n",
              "        [0.8460],\n",
              "        [0.8600],\n",
              "        [0.8740],\n",
              "        [0.8880],\n",
              "        [0.9020],\n",
              "        [0.9160],\n",
              "        [0.9300],\n",
              "        [0.9440],\n",
              "        [0.9580],\n",
              "        [0.9720],\n",
              "        [0.9860]])"
            ]
          },
          "metadata": {},
          "execution_count": 7
        }
      ]
    },
    {
      "cell_type": "code",
      "source": [
        "split = int(0.8*len(X))\n",
        "X_train, y_train = torch.tensor(X[:split]), torch.tensor(y[:split])\n",
        "X_test, y_test = torch.tensor(X[split:]), torch.tensor(y[split:])"
      ],
      "metadata": {
        "colab": {
          "base_uri": "https://localhost:8080/"
        },
        "id": "4jIFDOsumeTl",
        "outputId": "a9822251-7b77-4a45-8a7f-6b3e041602d9"
      },
      "execution_count": null,
      "outputs": [
        {
          "output_type": "stream",
          "name": "stderr",
          "text": [
            "<ipython-input-9-9b451049466a>:2: UserWarning: To copy construct from a tensor, it is recommended to use sourceTensor.clone().detach() or sourceTensor.clone().detach().requires_grad_(True), rather than torch.tensor(sourceTensor).\n",
            "  X_train, y_train = torch.tensor(X[:split]), torch.tensor(y[:split])\n",
            "<ipython-input-9-9b451049466a>:3: UserWarning: To copy construct from a tensor, it is recommended to use sourceTensor.clone().detach() or sourceTensor.clone().detach().requires_grad_(True), rather than torch.tensor(sourceTensor).\n",
            "  X_test, y_test = torch.tensor(X[split:]), torch.tensor(y[split:])\n"
          ]
        }
      ]
    },
    {
      "cell_type": "code",
      "source": [
        "X_train.shape"
      ],
      "metadata": {
        "colab": {
          "base_uri": "https://localhost:8080/"
        },
        "id": "UJf2Qgy9nCju",
        "outputId": "493f9b8b-78af-4f00-ea65-c230ca0641f2"
      },
      "execution_count": null,
      "outputs": [
        {
          "output_type": "execute_result",
          "data": {
            "text/plain": [
              "torch.Size([40, 1])"
            ]
          },
          "metadata": {},
          "execution_count": 10
        }
      ]
    },
    {
      "cell_type": "code",
      "source": [
        "plt.figure(figsize=(8, 6))\n",
        "\n",
        "  # Plot training data in blue\n",
        "plt.scatter(X_train, y_train, c=\"b\", s=4, label=\"Training data\")\n",
        "\n",
        "  # Plot test data in green\n",
        "plt.scatter(X_test, y_test, c=\"g\", s=4, label=\"Testing data\")\n",
        "\n",
        "plt.legend(prop={\"size\": 14});"
      ],
      "metadata": {
        "colab": {
          "base_uri": "https://localhost:8080/",
          "height": 522
        },
        "id": "UX1hbhvenetE",
        "outputId": "4a8a20a1-1862-4303-fba6-940487f553ca"
      },
      "execution_count": null,
      "outputs": [
        {
          "output_type": "display_data",
          "data": {
            "text/plain": [
              "<Figure size 800x600 with 1 Axes>"
            ],
            "image/png": "[encoded data removed]"
          },
          "metadata": {}
        }
      ]
    },
    {
      "cell_type": "code",
      "source": [
        "class model(nn.Module):\n",
        "  def __init__(self):\n",
        "    super().__init__()\n",
        "    self.weight = nn.Parameter(torch.randn(1, dtype =torch.float, requires_grad=True))\n",
        "    self.bias = nn.Parameter(torch.randn(1, dtype =torch.float, requires_grad=True))\n",
        "\n",
        "  def forward(self, X:torch.Tensor) -> torch.Tensor:\n",
        "    return self.weight*X+self.bias"
      ],
      "metadata": {
        "id": "vkyI2gzVntz-"
      },
      "execution_count": null,
      "outputs": []
    },
    {
      "cell_type": "code",
      "source": [
        "torch.manual_seed(42)\n",
        "\n",
        "model_1 = model()\n",
        "\n",
        "list(model_1.parameters())"
      ],
      "metadata": {
        "colab": {
          "base_uri": "https://localhost:8080/"
        },
        "id": "MBQhwdMPp9GL",
        "outputId": "5e4336ae-21c8-43b4-f607-5cc6e803bdea"
      },
      "execution_count": null,
      "outputs": [
        {
          "output_type": "execute_result",
          "data": {
            "text/plain": [
              "[Parameter containing:\n",
              " tensor([0.3367], requires_grad=True),\n",
              " Parameter containing:\n",
              " tensor([0.1288], requires_grad=True)]"
            ]
          },
          "metadata": {},
          "execution_count": 20
        }
      ]
    },
    {
      "cell_type": "code",
      "source": [
        "model_1.state_dict()"
      ],
      "metadata": {
        "colab": {
          "base_uri": "https://localhost:8080/"
        },
        "id": "G_AnE301qsCX",
        "outputId": "7e0af0bb-a97d-4e1d-e483-fd1e2255596a"
      },
      "execution_count": null,
      "outputs": [
        {
          "output_type": "execute_result",
          "data": {
            "text/plain": [
              "OrderedDict([('weight', tensor([0.3367])), ('bias', tensor([0.1288]))])"
            ]
          },
          "metadata": {},
          "execution_count": 21
        }
      ]
    },
    {
      "cell_type": "code",
      "source": [
        "with torch.inference_mode():\n",
        "  pre = model_1(X_test)"
      ],
      "metadata": {
        "id": "GsS4R0j7q0gX"
      },
      "execution_count": null,
      "outputs": []
    },
    {
      "cell_type": "code",
      "source": [
        "pre[0]"
      ],
      "metadata": {
        "colab": {
          "base_uri": "https://localhost:8080/"
        },
        "id": "kP3VY_-urEoI",
        "outputId": "de61db3c-fece-4afc-8a51-505c70820b59"
      },
      "execution_count": null,
      "outputs": [
        {
          "output_type": "execute_result",
          "data": {
            "text/plain": [
              "tensor([0.3982])"
            ]
          },
          "metadata": {},
          "execution_count": 24
        }
      ]
    },
    {
      "cell_type": "code",
      "source": [
        "y_test[0]"
      ],
      "metadata": {
        "colab": {
          "base_uri": "https://localhost:8080/"
        },
        "id": "siNjdygJrFgQ",
        "outputId": "6acb791b-47d4-4fcf-8ed5-a78e05ecf922"
      },
      "execution_count": null,
      "outputs": [
        {
          "output_type": "execute_result",
          "data": {
            "text/plain": [
              "tensor([0.8600])"
            ]
          },
          "metadata": {},
          "execution_count": 25
        }
      ]
    },
    {
      "cell_type": "code",
      "source": [
        "plt.figure(figsize=(8, 6))\n",
        "\n",
        "  # Plot training data in blue\n",
        "plt.scatter(X_train, y_train, c=\"b\", s=4, label=\"Training data\")\n",
        "\n",
        "  # Plot test data in green\n",
        "plt.scatter(X_test, y_test, c=\"g\", s=4, label=\"Testing data\")\n",
        "\n",
        "plt.scatter(X_test, pre, c= 'r', s = 4, label = \"prediction\")\n",
        "\n",
        "plt.legend(prop={\"size\": 14});"
      ],
      "metadata": {
        "colab": {
          "base_uri": "https://localhost:8080/",
          "height": 522
        },
        "id": "D-cBxvp8rJAO",
        "outputId": "9c0ee71c-1f7a-4ff5-c59d-01d9a2cc4069"
      },
      "execution_count": null,
      "outputs": [
        {
          "output_type": "display_data",
          "data": {
            "text/plain": [
              "<Figure size 800x600 with 1 Axes>"
            ],
            "image/png": "[encoded data removed]"
          },
          "metadata": {}
        }
      ]
    },
    {
      "cell_type": "code",
      "source": [
        "y_test - pre"
      ],
      "metadata": {
        "colab": {
          "base_uri": "https://localhost:8080/"
        },
        "id": "koTa1KtCreRE",
        "outputId": "e1cdb845-acb4-4a0b-9bb6-22d0fa627e95"
      },
      "execution_count": null,
      "outputs": [
        {
          "output_type": "execute_result",
          "data": {
            "text/plain": [
              "tensor([[0.4618],\n",
              "        [0.4691],\n",
              "        [0.4764],\n",
              "        [0.4836],\n",
              "        [0.4909],\n",
              "        [0.4982],\n",
              "        [0.5054],\n",
              "        [0.5127],\n",
              "        [0.5200],\n",
              "        [0.5272]])"
            ]
          },
          "metadata": {},
          "execution_count": 28
        }
      ]
    },
    {
      "cell_type": "code",
      "source": [
        "loss_fn = nn.L1Loss() # MAE is written as L1Loss in pytorch\n",
        "\n",
        "optimizer = torch.optim.SGD(params = model_1.parameters(), lr = 0.001)"
      ],
      "metadata": {
        "id": "JU-AY91rrrpW"
      },
      "execution_count": null,
      "outputs": []
    },
    {
      "cell_type": "code",
      "source": [
        "torch.manual_seed(42)\n",
        "\n",
        "epochs  = 100\n",
        "\n",
        "train_loss = []\n",
        "test_loss1 = []\n",
        "no_epochs = []\n",
        "\n",
        "for epoch in range(epochs):\n",
        "\n",
        "  model_1.train()\n",
        "\n",
        "  pred = model_1(X_train)\n",
        "\n",
        "  loss = loss_fn(pred, y_train)\n",
        "\n",
        "  optimizer.zero_grad()\n",
        "\n",
        "  loss.backward()\n",
        "\n",
        "  optimizer.step()\n",
        "\n",
        "  model_1.eval()\n",
        "\n",
        "  with torch.inference_mode():\n",
        "    test_pred = model_1(X_test)\n",
        "\n",
        "    test_loss = loss_fn(test_pred, y_test.type(torch.float))\n",
        "\n",
        "    if epochs % 10 == 0:\n",
        "      no_epochs.append(epoch)\n",
        "      train_loss.append(loss.detach().numpy())\n",
        "      test_loss1.append(test_loss.detach().numpy())\n",
        "      print(f\"Epoch: {epoch} \\t| MAE Train Loss: {loss} \\t| MAE Test Loss: {test_loss} \")\n"
      ],
      "metadata": {
        "colab": {
          "base_uri": "https://localhost:8080/"
        },
        "id": "--RVkc9IsKo3",
        "outputId": "2f3227cc-83e2-4d1b-c3a8-e54ceab92081"
      },
      "execution_count": null,
      "outputs": [
        {
          "output_type": "stream",
          "name": "stdout",
          "text": [
            "Epoch: 0 | MAE Train Loss: 0.15998168289661407 | MAE Test Loss: 0.2852901220321655 \n",
            "Epoch: 1 | MAE Train Loss: 0.15882958471775055 | MAE Test Loss: 0.2839429974555969 \n",
            "Epoch: 2 | MAE Train Loss: 0.15767748653888702 | MAE Test Loss: 0.2825959324836731 \n",
            "Epoch: 3 | MAE Train Loss: 0.1565253883600235 | MAE Test Loss: 0.2812488377094269 \n",
            "Epoch: 4 | MAE Train Loss: 0.15537329018115997 | MAE Test Loss: 0.2799017131328583 \n",
            "Epoch: 5 | MAE Train Loss: 0.15422119200229645 | MAE Test Loss: 0.27855461835861206 \n",
            "Epoch: 6 | MAE Train Loss: 0.15306907892227173 | MAE Test Loss: 0.27720752358436584 \n",
            "Epoch: 7 | MAE Train Loss: 0.1519169807434082 | MAE Test Loss: 0.275860458612442 \n",
            "Epoch: 8 | MAE Train Loss: 0.15076488256454468 | MAE Test Loss: 0.2745133340358734 \n",
            "Epoch: 9 | MAE Train Loss: 0.14961278438568115 | MAE Test Loss: 0.2731662392616272 \n",
            "Epoch: 10 | MAE Train Loss: 0.14846070110797882 | MAE Test Loss: 0.27181917428970337 \n",
            "Epoch: 11 | MAE Train Loss: 0.1473085880279541 | MAE Test Loss: 0.27047207951545715 \n",
            "Epoch: 12 | MAE Train Loss: 0.14615650475025177 | MAE Test Loss: 0.26912498474121094 \n",
            "Epoch: 13 | MAE Train Loss: 0.14500440657138824 | MAE Test Loss: 0.2677779197692871 \n",
            "Epoch: 14 | MAE Train Loss: 0.1438523381948471 | MAE Test Loss: 0.2664308547973633 \n",
            "Epoch: 15 | MAE Train Loss: 0.14270026981830597 | MAE Test Loss: 0.2650837302207947 \n",
            "Epoch: 16 | MAE Train Loss: 0.14154817163944244 | MAE Test Loss: 0.26373663544654846 \n",
            "Epoch: 17 | MAE Train Loss: 0.1403960883617401 | MAE Test Loss: 0.262389600276947 \n",
            "Epoch: 18 | MAE Train Loss: 0.13924400508403778 | MAE Test Loss: 0.2610425055027008 \n",
            "Epoch: 19 | MAE Train Loss: 0.13809192180633545 | MAE Test Loss: 0.2596954107284546 \n",
            "Epoch: 20 | MAE Train Loss: 0.13693982362747192 | MAE Test Loss: 0.25834834575653076 \n",
            "Epoch: 21 | MAE Train Loss: 0.1357877552509308 | MAE Test Loss: 0.25700128078460693 \n",
            "Epoch: 22 | MAE Train Loss: 0.13463565707206726 | MAE Test Loss: 0.25565415620803833 \n",
            "Epoch: 23 | MAE Train Loss: 0.13348357379436493 | MAE Test Loss: 0.2543070912361145 \n",
            "Epoch: 24 | MAE Train Loss: 0.1323314905166626 | MAE Test Loss: 0.2529600262641907 \n",
            "Epoch: 25 | MAE Train Loss: 0.13117940723896027 | MAE Test Loss: 0.25161293148994446 \n",
            "Epoch: 26 | MAE Train Loss: 0.13002732396125793 | MAE Test Loss: 0.25026583671569824 \n",
            "Epoch: 27 | MAE Train Loss: 0.1288752257823944 | MAE Test Loss: 0.2489188015460968 \n",
            "Epoch: 28 | MAE Train Loss: 0.12772314250469208 | MAE Test Loss: 0.24757170677185059 \n",
            "Epoch: 29 | MAE Train Loss: 0.12657105922698975 | MAE Test Loss: 0.24622459709644318 \n",
            "Epoch: 30 | MAE Train Loss: 0.1254189908504486 | MAE Test Loss: 0.24487754702568054 \n",
            "Epoch: 31 | MAE Train Loss: 0.12426690012216568 | MAE Test Loss: 0.24353043735027313 \n",
            "Epoch: 32 | MAE Train Loss: 0.12311480939388275 | MAE Test Loss: 0.2421833723783493 \n",
            "Epoch: 33 | MAE Train Loss: 0.12196271121501923 | MAE Test Loss: 0.2408362627029419 \n",
            "Epoch: 34 | MAE Train Loss: 0.12081065028905869 | MAE Test Loss: 0.23948922753334045 \n",
            "Epoch: 35 | MAE Train Loss: 0.11965855211019516 | MAE Test Loss: 0.23814213275909424 \n",
            "Epoch: 36 | MAE Train Loss: 0.11850646883249283 | MAE Test Loss: 0.23679503798484802 \n",
            "Epoch: 37 | MAE Train Loss: 0.1173543930053711 | MAE Test Loss: 0.2354479730129242 \n",
            "Epoch: 38 | MAE Train Loss: 0.11620230972766876 | MAE Test Loss: 0.23410086333751678 \n",
            "Epoch: 39 | MAE Train Loss: 0.11505021899938583 | MAE Test Loss: 0.23275379836559296 \n",
            "Epoch: 40 | MAE Train Loss: 0.1138981357216835 | MAE Test Loss: 0.23140671849250793 \n",
            "Epoch: 41 | MAE Train Loss: 0.11274604499340057 | MAE Test Loss: 0.2300596535205841 \n",
            "Epoch: 42 | MAE Train Loss: 0.11159396171569824 | MAE Test Loss: 0.2287125587463379 \n",
            "Epoch: 43 | MAE Train Loss: 0.11044187843799591 | MAE Test Loss: 0.22736544907093048 \n",
            "Epoch: 44 | MAE Train Loss: 0.10928978770971298 | MAE Test Loss: 0.22601839900016785 \n",
            "Epoch: 45 | MAE Train Loss: 0.10813771188259125 | MAE Test Loss: 0.22467128932476044 \n",
            "Epoch: 46 | MAE Train Loss: 0.10698562860488892 | MAE Test Loss: 0.223324254155159 \n",
            "Epoch: 47 | MAE Train Loss: 0.10583354532718658 | MAE Test Loss: 0.2219771444797516 \n",
            "Epoch: 48 | MAE Train Loss: 0.10468146950006485 | MAE Test Loss: 0.22063007950782776 \n",
            "Epoch: 49 | MAE Train Loss: 0.10352937877178192 | MAE Test Loss: 0.21928298473358154 \n",
            "Epoch: 50 | MAE Train Loss: 0.10237729549407959 | MAE Test Loss: 0.21793591976165771 \n",
            "Epoch: 51 | MAE Train Loss: 0.10122521221637726 | MAE Test Loss: 0.2165888249874115 \n",
            "Epoch: 52 | MAE Train Loss: 0.10007312148809433 | MAE Test Loss: 0.21524174511432648 \n",
            "Epoch: 53 | MAE Train Loss: 0.098921038210392 | MAE Test Loss: 0.21389468014240265 \n",
            "Epoch: 54 | MAE Train Loss: 0.09776895493268967 | MAE Test Loss: 0.21254757046699524 \n",
            "Epoch: 55 | MAE Train Loss: 0.09661687910556793 | MAE Test Loss: 0.2112005054950714 \n",
            "Epoch: 56 | MAE Train Loss: 0.095464788377285 | MAE Test Loss: 0.2098534107208252 \n",
            "Epoch: 57 | MAE Train Loss: 0.09431269019842148 | MAE Test Loss: 0.20850634574890137 \n",
            "Epoch: 58 | MAE Train Loss: 0.09316061437129974 | MAE Test Loss: 0.20715925097465515 \n",
            "Epoch: 59 | MAE Train Loss: 0.09200853109359741 | MAE Test Loss: 0.20581218600273132 \n",
            "Epoch: 60 | MAE Train Loss: 0.09085644781589508 | MAE Test Loss: 0.2044651061296463 \n",
            "Epoch: 61 | MAE Train Loss: 0.08970437198877335 | MAE Test Loss: 0.2031179964542389 \n",
            "Epoch: 62 | MAE Train Loss: 0.08859273046255112 | MAE Test Loss: 0.20182088017463684 \n",
            "Epoch: 63 | MAE Train Loss: 0.08753813058137894 | MAE Test Loss: 0.20052380859851837 \n",
            "Epoch: 64 | MAE Train Loss: 0.08648351579904556 | MAE Test Loss: 0.19922670722007751 \n",
            "Epoch: 65 | MAE Train Loss: 0.08542890846729279 | MAE Test Loss: 0.19792959094047546 \n",
            "Epoch: 66 | MAE Train Loss: 0.08437718451023102 | MAE Test Loss: 0.1966833919286728 \n",
            "Epoch: 67 | MAE Train Loss: 0.08341585844755173 | MAE Test Loss: 0.19543716311454773 \n",
            "Epoch: 68 | MAE Train Loss: 0.08245453238487244 | MAE Test Loss: 0.19419094920158386 \n",
            "Epoch: 69 | MAE Train Loss: 0.08149321377277374 | MAE Test Loss: 0.19294473528862 \n",
            "Epoch: 70 | MAE Train Loss: 0.08053188025951385 | MAE Test Loss: 0.19169850647449493 \n",
            "Epoch: 71 | MAE Train Loss: 0.07957475632429123 | MAE Test Loss: 0.1905040740966797 \n",
            "Epoch: 72 | MAE Train Loss: 0.07870249450206757 | MAE Test Loss: 0.18930964171886444 \n",
            "Epoch: 73 | MAE Train Loss: 0.0778302252292633 | MAE Test Loss: 0.1881152093410492 \n",
            "Epoch: 74 | MAE Train Loss: 0.07695795595645905 | MAE Test Loss: 0.18692079186439514 \n",
            "Epoch: 75 | MAE Train Loss: 0.07608568668365479 | MAE Test Loss: 0.1857263296842575 \n",
            "Epoch: 76 | MAE Train Loss: 0.07521342486143112 | MAE Test Loss: 0.18453189730644226 \n",
            "Epoch: 77 | MAE Train Loss: 0.07438169419765472 | MAE Test Loss: 0.18339014053344727 \n",
            "Epoch: 78 | MAE Train Loss: 0.07359422743320465 | MAE Test Loss: 0.18224838376045227 \n",
            "Epoch: 79 | MAE Train Loss: 0.07280676066875458 | MAE Test Loss: 0.1811065971851349 \n",
            "Epoch: 80 | MAE Train Loss: 0.0720192939043045 | MAE Test Loss: 0.1799648106098175 \n",
            "Epoch: 81 | MAE Train Loss: 0.07123181968927383 | MAE Test Loss: 0.17882303893566132 \n",
            "Epoch: 82 | MAE Train Loss: 0.07046926766633987 | MAE Test Loss: 0.17773480713367462 \n",
            "Epoch: 83 | MAE Train Loss: 0.06976236402988434 | MAE Test Loss: 0.17664659023284912 \n",
            "Epoch: 84 | MAE Train Loss: 0.0690554529428482 | MAE Test Loss: 0.17555837333202362 \n",
            "Epoch: 85 | MAE Train Loss: 0.06834854185581207 | MAE Test Loss: 0.1744701862335205 \n",
            "Epoch: 86 | MAE Train Loss: 0.06764163076877594 | MAE Test Loss: 0.1733819544315338 \n",
            "Epoch: 87 | MAE Train Loss: 0.06693526357412338 | MAE Test Loss: 0.17234821617603302 \n",
            "Epoch: 88 | MAE Train Loss: 0.06630463898181915 | MAE Test Loss: 0.17131444811820984 \n",
            "Epoch: 89 | MAE Train Loss: 0.06567401438951492 | MAE Test Loss: 0.17028072476387024 \n",
            "Epoch: 90 | MAE Train Loss: 0.0650433897972107 | MAE Test Loss: 0.16924698650836945 \n",
            "Epoch: 91 | MAE Train Loss: 0.06441275775432587 | MAE Test Loss: 0.16821321845054626 \n",
            "Epoch: 92 | MAE Train Loss: 0.06378214061260223 | MAE Test Loss: 0.16717949509620667 \n",
            "Epoch: 93 | MAE Train Loss: 0.06315606832504272 | MAE Test Loss: 0.16620106995105743 \n",
            "Epoch: 94 | MAE Train Loss: 0.06259740889072418 | MAE Test Loss: 0.1652226746082306 \n",
            "Epoch: 95 | MAE Train Loss: 0.06203874945640564 | MAE Test Loss: 0.16424424946308136 \n",
            "Epoch: 96 | MAE Train Loss: 0.061480093747377396 | MAE Test Loss: 0.16326582431793213 \n",
            "Epoch: 97 | MAE Train Loss: 0.06092143803834915 | MAE Test Loss: 0.16228742897510529 \n",
            "Epoch: 98 | MAE Train Loss: 0.06036277487874031 | MAE Test Loss: 0.16130900382995605 \n",
            "Epoch: 99 | MAE Train Loss: 0.05980411916971207 | MAE Test Loss: 0.16033056378364563 \n"
          ]
        }
      ]
    },
    {
      "cell_type": "code",
      "source": [
        "plt.plot(no_epochs, train_loss, label=\"Train loss\")\n",
        "plt.plot(no_epochs, test_loss1, label=\"Test loss\")\n",
        "plt.title(\"Training and test loss curves\")\n",
        "plt.ylabel(\"Loss\")\n",
        "plt.xlabel(\"Epochs\")\n",
        "plt.legend();"
      ],
      "metadata": {
        "colab": {
          "base_uri": "https://localhost:8080/",
          "height": 472
        },
        "id": "h4M4iwzyt6MF",
        "outputId": "88b92d3f-ab0c-470c-8e25-a65642487cb8"
      },
      "execution_count": null,
      "outputs": [
        {
          "output_type": "display_data",
          "data": {
            "text/plain": [
              "<Figure size 640x480 with 1 Axes>"
            ],
            "image/png": "[encoded data removed]"
          },
          "metadata": {}
        }
      ]
    },
    {
      "cell_type": "code",
      "source": [
        "# 1. Set the model in evaluation mode\n",
        "model_1.eval()\n",
        "\n",
        "# 2. Setup the inference mode context manager\n",
        "with torch.inference_mode():\n",
        "  # 3. Make sure the calculations are done with the model and data on the same device\n",
        "  # in our case, we haven't setup device-agnostic code yet so our data and model are\n",
        "  # on the CPU by default.\n",
        "  # model_0.to(device)\n",
        "  # X_test = X_test.to(device)\n",
        "  predict = model_1(X_test)\n",
        "predict"
      ],
      "metadata": {
        "colab": {
          "base_uri": "https://localhost:8080/"
        },
        "id": "yxbafTqwu8bm",
        "outputId": "e29a39d6-d2bd-463c-afc5-9d8171ceeb96"
      },
      "execution_count": null,
      "outputs": [
        {
          "output_type": "execute_result",
          "data": {
            "text/plain": [
              "tensor([[0.7190],\n",
              "        [0.7287],\n",
              "        [0.7384],\n",
              "        [0.7481],\n",
              "        [0.7578],\n",
              "        [0.7675],\n",
              "        [0.7772],\n",
              "        [0.7869],\n",
              "        [0.7966],\n",
              "        [0.8064]])"
            ]
          },
          "metadata": {},
          "execution_count": 45
        }
      ]
    },
    {
      "cell_type": "code",
      "source": [
        "plt.figure(figsize=(8, 6))\n",
        "\n",
        "  # Plot training data in blue\n",
        "plt.scatter(X_train, y_train, c=\"b\", s=4, label=\"Training data\")\n",
        "\n",
        "  # Plot test data in green\n",
        "plt.scatter(X_test, y_test, c=\"g\", s=4, label=\"Testing data\")\n",
        "\n",
        "plt.scatter(X_test, predict, c= 'r', s = 4, label = \"prediction\")\n",
        "\n",
        "plt.legend(prop={\"size\": 14});"
      ],
      "metadata": {
        "colab": {
          "base_uri": "https://localhost:8080/",
          "height": 522
        },
        "id": "5dgxAkjavNXz",
        "outputId": "1d4d3ba7-b61f-4ad5-881c-e657ab9977a1"
      },
      "execution_count": null,
      "outputs": [
        {
          "output_type": "display_data",
          "data": {
            "text/plain": [
              "<Figure size 800x600 with 1 Axes>"
            ],
            "image/png": "[encoded data removed]"
          },
          "metadata": {}
        }
      ]
    },
    {
      "cell_type": "markdown",
      "source": [
        "# Pratice"
      ],
      "metadata": {
        "id": "MlGp_AkGwv4Y"
      }
    },
    {
      "cell_type": "code",
      "source": [
        "import torch\n",
        "from torch import nn\n",
        "import matplotlib.pyplot as plt"
      ],
      "metadata": {
        "id": "d9b8_uvZw-KD"
      },
      "execution_count": null,
      "outputs": []
    },
    {
      "cell_type": "code",
      "source": [
        "weight = 0.7\n",
        "bias = 0.5\n",
        "\n",
        "X = torch.arange(0,1,0.02)\n",
        "y = torch.tensor(X * weight + bias)"
      ],
      "metadata": {
        "colab": {
          "base_uri": "https://localhost:8080/"
        },
        "id": "0rmRUoXDs1hc",
        "outputId": "cd1ee466-97a9-4808-d1c1-8d7fd5762eb6"
      },
      "execution_count": null,
      "outputs": [
        {
          "output_type": "stream",
          "name": "stderr",
          "text": [
            "<ipython-input-26-4f36a270ba35>:5: UserWarning: To copy construct from a tensor, it is recommended to use sourceTensor.clone().detach() or sourceTensor.clone().detach().requires_grad_(True), rather than torch.tensor(sourceTensor).\n",
            "  y = torch.tensor(X * weight + bias)\n"
          ]
        }
      ]
    },
    {
      "cell_type": "code",
      "source": [
        "X.shape, y.shape"
      ],
      "metadata": {
        "colab": {
          "base_uri": "https://localhost:8080/"
        },
        "id": "0S26-ywXtarO",
        "outputId": "9325fbde-56e9-45e5-ee96-9c6577ae9e4b"
      },
      "execution_count": null,
      "outputs": [
        {
          "output_type": "execute_result",
          "data": {
            "text/plain": [
              "(torch.Size([50]), torch.Size([50]))"
            ]
          },
          "metadata": {},
          "execution_count": 27
        }
      ]
    },
    {
      "cell_type": "code",
      "source": [
        "length = int(0.8*len(X))\n",
        "\n",
        "X_train, y_train = torch.tensor(X[:length]), torch.tensor(y[:length] )\n",
        "X_test, y_test = torch.tensor(X[length:]), torch.tensor(y[length:])\n",
        "\n",
        "X_train.shape, y_train.shape, X_test.shape, y_test.shape"
      ],
      "metadata": {
        "colab": {
          "base_uri": "https://localhost:8080/"
        },
        "id": "zJtM683etchs",
        "outputId": "797496f9-8b7c-49d3-eea4-139804058afe"
      },
      "execution_count": null,
      "outputs": [
        {
          "output_type": "stream",
          "name": "stderr",
          "text": [
            "<ipython-input-28-c202d7d07c6c>:3: UserWarning: To copy construct from a tensor, it is recommended to use sourceTensor.clone().detach() or sourceTensor.clone().detach().requires_grad_(True), rather than torch.tensor(sourceTensor).\n",
            "  X_train, y_train = torch.tensor(X[:length]), torch.tensor(y[:length] )\n",
            "<ipython-input-28-c202d7d07c6c>:4: UserWarning: To copy construct from a tensor, it is recommended to use sourceTensor.clone().detach() or sourceTensor.clone().detach().requires_grad_(True), rather than torch.tensor(sourceTensor).\n",
            "  X_test, y_test = torch.tensor(X[length:]), torch.tensor(y[length:])\n"
          ]
        },
        {
          "output_type": "execute_result",
          "data": {
            "text/plain": [
              "(torch.Size([40]), torch.Size([40]), torch.Size([10]), torch.Size([10]))"
            ]
          },
          "metadata": {},
          "execution_count": 28
        }
      ]
    },
    {
      "cell_type": "code",
      "source": [
        "class modelclass(nn.Module):\n",
        "  def __init__(self):\n",
        "    super().__init__()\n",
        "    self.weight = nn.Parameter(torch.randn(1, dtype = torch.float, requires_grad=True))\n",
        "\n",
        "    self.bias = nn.Parameter(torch.randn(1, dtype = torch.float, requires_grad=True))\n",
        "\n",
        "  def forward(self, X: torch.Tensor):\n",
        "    return self.weight * X + self.bias\n"
      ],
      "metadata": {
        "id": "GxKnePyZuXE1"
      },
      "execution_count": null,
      "outputs": []
    },
    {
      "cell_type": "code",
      "source": [
        "trial_model = modelclass()"
      ],
      "metadata": {
        "id": "CfUiztngwX64"
      },
      "execution_count": null,
      "outputs": []
    },
    {
      "cell_type": "code",
      "source": [
        "torch.manual_seed(42)\n",
        "with torch.no_grad():\n",
        "  pre = trial_model(X_test)"
      ],
      "metadata": {
        "id": "GV2Geq1Xuc7E"
      },
      "execution_count": null,
      "outputs": []
    },
    {
      "cell_type": "code",
      "source": [
        "plt.scatter(X_train, y_train, c = 'b', s = 4, label = \"Training data\")\n",
        "\n",
        "plt.scatter(X_test, y_test, c = 'g', s = 4, label = \"Testing data\")\n",
        "\n",
        "plt.scatter(X_test, pre, c= 'r', s=4, label = \"Predictiong data\")\n",
        "\n",
        "plt.legend()"
      ],
      "metadata": {
        "colab": {
          "base_uri": "https://localhost:8080/",
          "height": 448
        },
        "id": "pJBEHqsS05dx",
        "outputId": "861816e9-88cf-4a6c-c66c-673636ef3630"
      },
      "execution_count": null,
      "outputs": [
        {
          "output_type": "execute_result",
          "data": {
            "text/plain": [
              "<matplotlib.legend.Legend at 0x7e5c2dddfc40>"
            ]
          },
          "metadata": {},
          "execution_count": 39
        },
        {
          "output_type": "display_data",
          "data": {
            "text/plain": [
              "<Figure size 640x480 with 1 Axes>"
            ],
            "image/png": "[encoded data removed]"
          },
          "metadata": {}
        }
      ]
    },
    {
      "cell_type": "code",
      "source": [
        "loss_fn = nn.L1Loss()\n",
        "optimizer = torch.optim.SGD(params = trial_model.parameters(), lr = 0.01)"
      ],
      "metadata": {
        "id": "qDRlzOjCww41"
      },
      "execution_count": null,
      "outputs": []
    },
    {
      "cell_type": "code",
      "source": [
        "epochs = 101\n",
        "\n",
        "for epoch in range(epochs):\n",
        "  trial_model.train()\n",
        "\n",
        "  pred = trial_model(X_train)\n",
        "  loss = loss_fn(pred, y_train)\n",
        "  optimizer.zero_grad()\n",
        "  loss.backward()\n",
        "  optimizer.step()\n",
        "  trial_model.eval()\n",
        "  print(f\"epoch: {epoch} | loss: {float(loss)}\")"
      ],
      "metadata": {
        "colab": {
          "base_uri": "https://localhost:8080/"
        },
        "id": "RxgyGWbVzAse",
        "outputId": "2b9c68f3-2503-4496-d86b-3e2463a1de6b"
      },
      "execution_count": null,
      "outputs": [
        {
          "output_type": "stream",
          "name": "stdout",
          "text": [
            "epoch: 0 | loss: 0.017087901011109352\n",
            "epoch: 1 | loss: 0.01674521528184414\n",
            "epoch: 2 | loss: 0.01639888621866703\n",
            "epoch: 3 | loss: 0.016060011461377144\n",
            "epoch: 4 | loss: 0.01571100577712059\n",
            "epoch: 5 | loss: 0.015373677015304565\n",
            "epoch: 6 | loss: 0.015025804750621319\n",
            "epoch: 7 | loss: 0.014684662222862244\n",
            "epoch: 8 | loss: 0.014340599067509174\n",
            "epoch: 9 | loss: 0.013995649293065071\n",
            "epoch: 10 | loss: 0.013655396178364754\n",
            "epoch: 11 | loss: 0.013306629844009876\n",
            "epoch: 12 | loss: 0.012970191426575184\n",
            "epoch: 13 | loss: 0.012621201574802399\n",
            "epoch: 14 | loss: 0.012281415984034538\n",
            "epoch: 15 | loss: 0.011935991235077381\n",
            "epoch: 16 | loss: 0.011592407710850239\n",
            "epoch: 17 | loss: 0.011250789277255535\n",
            "epoch: 18 | loss: 0.010903393849730492\n",
            "epoch: 19 | loss: 0.010565581731498241\n",
            "epoch: 20 | loss: 0.010216591879725456\n",
            "epoch: 21 | loss: 0.009878182783722878\n",
            "epoch: 22 | loss: 0.009531376883387566\n",
            "epoch: 23 | loss: 0.00918916892260313\n",
            "epoch: 24 | loss: 0.008846180513501167\n",
            "epoch: 25 | loss: 0.008500151336193085\n",
            "epoch: 26 | loss: 0.008160978555679321\n",
            "epoch: 27 | loss: 0.0078119756653904915\n",
            "epoch: 28 | loss: 0.00747493514791131\n",
            "epoch: 29 | loss: 0.0071267723105847836\n",
            "epoch: 30 | loss: 0.006785929203033447\n",
            "epoch: 31 | loss: 0.006441570818424225\n",
            "epoch: 32 | loss: 0.0060969083569943905\n",
            "epoch: 33 | loss: 0.005756363272666931\n",
            "epoch: 34 | loss: 0.005407893564552069\n",
            "epoch: 35 | loss: 0.005071163177490234\n",
            "epoch: 36 | loss: 0.004722160287201405\n",
            "epoch: 37 | loss: 0.004382678773254156\n",
            "epoch: 38 | loss: 0.004036960192024708\n",
            "epoch: 39 | loss: 0.0036936700344085693\n",
            "epoch: 40 | loss: 0.003351754043251276\n",
            "epoch: 41 | loss: 0.00300465221516788\n",
            "epoch: 42 | loss: 0.0026679188013076782\n",
            "epoch: 43 | loss: 0.002354401396587491\n",
            "epoch: 44 | loss: 0.0020944371353834867\n",
            "epoch: 45 | loss: 0.002073179231956601\n",
            "epoch: 46 | loss: 0.004592182580381632\n",
            "epoch: 47 | loss: 0.006928838789463043\n",
            "epoch: 48 | loss: 0.0045921518467366695\n",
            "epoch: 49 | loss: 0.006928838789463043\n",
            "epoch: 50 | loss: 0.0045921518467366695\n",
            "epoch: 51 | loss: 0.006928838789463043\n",
            "epoch: 52 | loss: 0.0045921518467366695\n",
            "epoch: 53 | loss: 0.006928838789463043\n",
            "epoch: 54 | loss: 0.0045921518467366695\n",
            "epoch: 55 | loss: 0.006928838789463043\n",
            "epoch: 56 | loss: 0.0045921518467366695\n",
            "epoch: 57 | loss: 0.006928838789463043\n",
            "epoch: 58 | loss: 0.0045921518467366695\n",
            "epoch: 59 | loss: 0.006928838789463043\n",
            "epoch: 60 | loss: 0.0045921518467366695\n",
            "epoch: 61 | loss: 0.006928838789463043\n",
            "epoch: 62 | loss: 0.0045921518467366695\n",
            "epoch: 63 | loss: 0.006928838789463043\n",
            "epoch: 64 | loss: 0.0045921518467366695\n",
            "epoch: 65 | loss: 0.006928838789463043\n",
            "epoch: 66 | loss: 0.0045921518467366695\n",
            "epoch: 67 | loss: 0.006928838789463043\n",
            "epoch: 68 | loss: 0.0045921518467366695\n",
            "epoch: 69 | loss: 0.006928838789463043\n",
            "epoch: 70 | loss: 0.0045921518467366695\n",
            "epoch: 71 | loss: 0.006928838789463043\n",
            "epoch: 72 | loss: 0.0045921518467366695\n",
            "epoch: 73 | loss: 0.006928838789463043\n",
            "epoch: 74 | loss: 0.0045921518467366695\n",
            "epoch: 75 | loss: 0.006928838789463043\n",
            "epoch: 76 | loss: 0.0045921518467366695\n",
            "epoch: 77 | loss: 0.006928838789463043\n",
            "epoch: 78 | loss: 0.0045921518467366695\n",
            "epoch: 79 | loss: 0.006928838789463043\n",
            "epoch: 80 | loss: 0.0045921518467366695\n",
            "epoch: 81 | loss: 0.006928838789463043\n",
            "epoch: 82 | loss: 0.0045921518467366695\n",
            "epoch: 83 | loss: 0.006928838789463043\n",
            "epoch: 84 | loss: 0.0045921518467366695\n",
            "epoch: 85 | loss: 0.006928838789463043\n",
            "epoch: 86 | loss: 0.0045921518467366695\n",
            "epoch: 87 | loss: 0.006928838789463043\n",
            "epoch: 88 | loss: 0.0045921518467366695\n",
            "epoch: 89 | loss: 0.006928838789463043\n",
            "epoch: 90 | loss: 0.0045921518467366695\n",
            "epoch: 91 | loss: 0.006928838789463043\n",
            "epoch: 92 | loss: 0.0045921518467366695\n",
            "epoch: 93 | loss: 0.006928838789463043\n",
            "epoch: 94 | loss: 0.0045921518467366695\n",
            "epoch: 95 | loss: 0.006928838789463043\n",
            "epoch: 96 | loss: 0.0045921518467366695\n",
            "epoch: 97 | loss: 0.006928838789463043\n",
            "epoch: 98 | loss: 0.0045921518467366695\n",
            "epoch: 99 | loss: 0.006928838789463043\n",
            "epoch: 100 | loss: 0.0045921518467366695\n"
          ]
        }
      ]
    },
    {
      "cell_type": "code",
      "source": [
        "with torch.no_grad():\n",
        "  y_pred = trial_model(X_test)\n",
        "y_pred.unsqueeze(1)"
      ],
      "metadata": {
        "colab": {
          "base_uri": "https://localhost:8080/"
        },
        "id": "FSythO1Azm_Z",
        "outputId": "0625d5a0-5d0c-419f-ad7a-4e28baa18a2e"
      },
      "execution_count": null,
      "outputs": [
        {
          "output_type": "execute_result",
          "data": {
            "text/plain": [
              "tensor([[1.0650],\n",
              "        [1.0789],\n",
              "        [1.0928],\n",
              "        [1.1067],\n",
              "        [1.1206],\n",
              "        [1.1345],\n",
              "        [1.1484],\n",
              "        [1.1623],\n",
              "        [1.1762],\n",
              "        [1.1901]])"
            ]
          },
          "metadata": {},
          "execution_count": 42
        }
      ]
    },
    {
      "cell_type": "code",
      "source": [
        "y_test.unsqueeze(1)"
      ],
      "metadata": {
        "colab": {
          "base_uri": "https://localhost:8080/"
        },
        "id": "tUIUFiu-0ZzI",
        "outputId": "438033df-0b67-4acf-ebd4-f84c3397ac5a"
      },
      "execution_count": null,
      "outputs": [
        {
          "output_type": "execute_result",
          "data": {
            "text/plain": [
              "tensor([[1.0600],\n",
              "        [1.0740],\n",
              "        [1.0880],\n",
              "        [1.1020],\n",
              "        [1.1160],\n",
              "        [1.1300],\n",
              "        [1.1440],\n",
              "        [1.1580],\n",
              "        [1.1720],\n",
              "        [1.1860]])"
            ]
          },
          "metadata": {},
          "execution_count": 43
        }
      ]
    },
    {
      "cell_type": "code",
      "source": [
        "torch.abs(y_pred - y_test).unsqueeze(1)"
      ],
      "metadata": {
        "colab": {
          "base_uri": "https://localhost:8080/"
        },
        "id": "IlMCljXE0iKX",
        "outputId": "235f78de-8c36-48f0-956e-f8335f433eae"
      },
      "execution_count": null,
      "outputs": [
        {
          "output_type": "execute_result",
          "data": {
            "text/plain": [
              "tensor([[0.0050],\n",
              "        [0.0049],\n",
              "        [0.0048],\n",
              "        [0.0047],\n",
              "        [0.0046],\n",
              "        [0.0045],\n",
              "        [0.0044],\n",
              "        [0.0043],\n",
              "        [0.0042],\n",
              "        [0.0041]])"
            ]
          },
          "metadata": {},
          "execution_count": 44
        }
      ]
    },
    {
      "cell_type": "code",
      "source": [
        "plt.scatter(X_train, y_train, c = 'b', s = 4, label = \"Training data\")\n",
        "\n",
        "plt.scatter(X_test, y_test, c = 'g', s = 4, label = \"Testing data\")\n",
        "\n",
        "plt.scatter(X_test, pre, c= 'r', s=4, label = \"Predictiong data\")\n",
        "\n",
        "plt.legend()"
      ],
      "metadata": {
        "colab": {
          "base_uri": "https://localhost:8080/",
          "height": 448
        },
        "id": "fkoQOmma4ssL",
        "outputId": "fbb1b4c9-9643-4a3c-9a8a-eefb635ae8c3"
      },
      "execution_count": null,
      "outputs": [
        {
          "output_type": "execute_result",
          "data": {
            "text/plain": [
              "<matplotlib.legend.Legend at 0x7e5c2e1112a0>"
            ]
          },
          "metadata": {},
          "execution_count": 50
        },
        {
          "output_type": "display_data",
          "data": {
            "text/plain": [
              "<Figure size 640x480 with 1 Axes>"
            ],
            "image/png": "[encoded data removed]"
          },
          "metadata": {}
        }
      ]
    },
    {
      "cell_type": "code",
      "source": [
        "plt.scatter(X_train, y_train, c = 'b', s = 4, label = \"Training data\")\n",
        "\n",
        "plt.scatter(X_test, y_test, c = 'g', s = 4, label = \"Testing data\")\n",
        "\n",
        "plt.scatter(X_test, y_pred, c= 'r', s=4, label = \"Predictiong data\")\n",
        "\n",
        "plt.legend()"
      ],
      "metadata": {
        "colab": {
          "base_uri": "https://localhost:8080/",
          "height": 448
        },
        "id": "lvRzn_i10qWf",
        "outputId": "26c7fbb2-d2a5-403b-9976-8c45c7d51a9a"
      },
      "execution_count": null,
      "outputs": [
        {
          "output_type": "execute_result",
          "data": {
            "text/plain": [
              "<matplotlib.legend.Legend at 0x7e5c2e255cf0>"
            ]
          },
          "metadata": {},
          "execution_count": 49
        },
        {
          "output_type": "display_data",
          "data": {
            "text/plain": [
              "<Figure size 640x480 with 1 Axes>"
            ],
            "image/png": "[encoded data removed]"
          },
          "metadata": {}
        }
      ]
    },
    {
      "cell_type": "code",
      "source": [
        "import torch\n",
        "from torch import nn\n",
        "import matplotlib.pyplot as plt"
      ],
      "metadata": {
        "id": "kdiBlc6r45T8"
      },
      "execution_count": null,
      "outputs": []
    },
    {
      "cell_type": "code",
      "source": [
        "weight , bias = 0.7,0.3\n",
        "X = torch.arange(0,1,0.01)\n",
        "y = weight * X +bias"
      ],
      "metadata": {
        "id": "DdQMRsII6QLi"
      },
      "execution_count": null,
      "outputs": []
    },
    {
      "cell_type": "code",
      "source": [
        "X.shape, y.shape"
      ],
      "metadata": {
        "colab": {
          "base_uri": "https://localhost:8080/"
        },
        "id": "09z90JYw6jVF",
        "outputId": "65132d9f-5f78-4d23-de37-7861cf14c64c"
      },
      "execution_count": null,
      "outputs": [
        {
          "output_type": "execute_result",
          "data": {
            "text/plain": [
              "(torch.Size([100]), torch.Size([100]))"
            ]
          },
          "metadata": {},
          "execution_count": 3
        }
      ]
    },
    {
      "cell_type": "code",
      "source": [
        "length = int(0.8*len(X))\n",
        "X_train, y_train = X[:length], y[:length]\n",
        "X_test, y_test = X[length:], y[length:]\n",
        "X_train.shape, y_train.shape, X_test.shape, y_test.shape"
      ],
      "metadata": {
        "colab": {
          "base_uri": "https://localhost:8080/"
        },
        "id": "PajN7Mhe6riM",
        "outputId": "972765b5-2f4b-4f06-ba37-cc1eb6ac1b57"
      },
      "execution_count": null,
      "outputs": [
        {
          "output_type": "execute_result",
          "data": {
            "text/plain": [
              "(torch.Size([80]), torch.Size([80]), torch.Size([20]), torch.Size([20]))"
            ]
          },
          "metadata": {},
          "execution_count": 4
        }
      ]
    },
    {
      "cell_type": "code",
      "source": [
        "class Model(nn.Module):\n",
        "  def __init__(self):\n",
        "    super().__init__()\n",
        "    self.w = nn.Parameter(torch.randn(1,dtype=torch.float, requires_grad = True))\n",
        "    self.b = nn.Parameter(torch.randn(1,dtype=torch.float, requires_grad = True))\n",
        "\n",
        "  def forward(self, X:torch.Tensor):\n",
        "    return self.w * X + self.b\n"
      ],
      "metadata": {
        "id": "9WSvWqKM7NNM"
      },
      "execution_count": null,
      "outputs": []
    },
    {
      "cell_type": "code",
      "source": [
        "model = Model()"
      ],
      "metadata": {
        "id": "JaxQytRq8woi"
      },
      "execution_count": null,
      "outputs": []
    },
    {
      "cell_type": "code",
      "source": [
        "loss_fn = nn.L1Loss()\n",
        "optimizer = torch.optim.Adam(params=model.parameters(), lr = 0.1 )"
      ],
      "metadata": {
        "id": "z7l4qtYy8ZAg"
      },
      "execution_count": null,
      "outputs": []
    },
    {
      "cell_type": "code",
      "source": [
        "epochs = 100\n",
        "\n",
        "for _ in range(epochs+1):\n",
        "  # Training\n",
        "  model.train()\n",
        "  pred = model(X_train)\n",
        "  loss = loss_fn(pred, y_train)\n",
        "  optimizer.zero_grad()\n",
        "  loss.backward()\n",
        "  optimizer.step()\n",
        "\n",
        "  # Testing\n",
        "  model.eval()\n",
        "\n",
        "  with torch.inference_mode():\n",
        "    test_pred = model(X_test)\n",
        "    test_loss = loss_fn(test_pred, y_test)\n",
        "    print(f\"Epoch: {_}\\t |\\t Test: {loss}\\t |\\t Test loss: {test_loss}\")\n",
        "\n",
        "  if _ % 10 == 0:\n",
        "    wb = list(model.parameters())\n",
        "    w, b = wb\n",
        "    w, b = round(float(w),1), round(float(b),1)\n",
        "    print(\"---------------------------------------------------------------------\")\n",
        "    print(f\"weight:{w}\\t |\\t bias: {b}\")\n",
        "    print(\"---------------------------------------------------------------------\")\n",
        "print(\"Model training and testing completed\")"
      ],
      "metadata": {
        "id": "g0PE3sTs850m",
        "colab": {
          "base_uri": "https://localhost:8080/"
        },
        "outputId": "a33e9cb9-f9cc-43ca-d8f9-7e7d754722ee"
      },
      "execution_count": null,
      "outputs": [
        {
          "output_type": "stream",
          "name": "stdout",
          "text": [
            "Epoch: 0\t |\t Test: 0.6335176229476929\t |\t Test loss: 1.5992289781570435\n",
            "---------------------------------------------------------------------\n",
            "weight:-2.2\t |\t bias: 1.3\n",
            "---------------------------------------------------------------------\n",
            "Epoch: 1\t |\t Test: 0.5870890617370605\t |\t Test loss: 1.4144024848937988\n",
            "Epoch: 2\t |\t Test: 0.5566071271896362\t |\t Test loss: 1.2473387718200684\n",
            "Epoch: 3\t |\t Test: 0.540817141532898\t |\t Test loss: 1.1193678379058838\n",
            "Epoch: 4\t |\t Test: 0.5323804616928101\t |\t Test loss: 1.0325844287872314\n",
            "Epoch: 5\t |\t Test: 0.5224586129188538\t |\t Test loss: 0.9782503843307495\n",
            "Epoch: 6\t |\t Test: 0.5079596638679504\t |\t Test loss: 0.944434642791748\n",
            "Epoch: 7\t |\t Test: 0.4896215498447418\t |\t Test loss: 0.9247357249259949\n",
            "Epoch: 8\t |\t Test: 0.468667209148407\t |\t Test loss: 0.9152761697769165\n",
            "Epoch: 9\t |\t Test: 0.4463379383087158\t |\t Test loss: 0.9118953943252563\n",
            "Epoch: 10\t |\t Test: 0.42399755120277405\t |\t Test loss: 0.909964919090271\n",
            "---------------------------------------------------------------------\n",
            "weight:-1.3\t |\t bias: 1.2\n",
            "---------------------------------------------------------------------\n",
            "Epoch: 11\t |\t Test: 0.4024479389190674\t |\t Test loss: 0.9057065844535828\n",
            "Epoch: 12\t |\t Test: 0.38222169876098633\t |\t Test loss: 0.8956966400146484\n",
            "Epoch: 13\t |\t Test: 0.3633498549461365\t |\t Test loss: 0.8787484169006348\n",
            "Epoch: 14\t |\t Test: 0.3453727066516876\t |\t Test loss: 0.8514326214790344\n",
            "Epoch: 15\t |\t Test: 0.3275323212146759\t |\t Test loss: 0.812724232673645\n",
            "Epoch: 16\t |\t Test: 0.3090932071208954\t |\t Test loss: 0.7616376876831055\n",
            "Epoch: 17\t |\t Test: 0.289515882730484\t |\t Test loss: 0.6995753049850464\n",
            "Epoch: 18\t |\t Test: 0.2689287066459656\t |\t Test loss: 0.6299795508384705\n",
            "Epoch: 19\t |\t Test: 0.24810242652893066\t |\t Test loss: 0.5558685064315796\n",
            "Epoch: 20\t |\t Test: 0.22792081534862518\t |\t Test loss: 0.48222407698631287\n",
            "---------------------------------------------------------------------\n",
            "weight:-0.3\t |\t bias: 0.7\n",
            "---------------------------------------------------------------------\n",
            "Epoch: 21\t |\t Test: 0.20900864899158478\t |\t Test loss: 0.4158118665218353\n",
            "Epoch: 22\t |\t Test: 0.19107450544834137\t |\t Test loss: 0.36020126938819885\n",
            "Epoch: 23\t |\t Test: 0.17292355000972748\t |\t Test loss: 0.31607183814048767\n",
            "Epoch: 24\t |\t Test: 0.1535807102918625\t |\t Test loss: 0.2818846106529236\n",
            "Epoch: 25\t |\t Test: 0.13303574919700623\t |\t Test loss: 0.25633150339126587\n",
            "Epoch: 26\t |\t Test: 0.11213662475347519\t |\t Test loss: 0.23257625102996826\n",
            "Epoch: 27\t |\t Test: 0.09257812798023224\t |\t Test loss: 0.20202526450157166\n",
            "Epoch: 28\t |\t Test: 0.0747755840420723\t |\t Test loss: 0.1538548469543457\n",
            "Epoch: 29\t |\t Test: 0.0557594895362854\t |\t Test loss: 0.08553262799978256\n",
            "Epoch: 30\t |\t Test: 0.034084729850292206\t |\t Test loss: 0.01476870197802782\n",
            "---------------------------------------------------------------------\n",
            "weight:0.6\t |\t bias: 0.3\n",
            "---------------------------------------------------------------------\n",
            "Epoch: 31\t |\t Test: 0.020948681980371475\t |\t Test loss: 0.003672701073810458\n",
            "Epoch: 32\t |\t Test: 0.0024402178823947906\t |\t Test loss: 0.041697967797517776\n",
            "Epoch: 33\t |\t Test: 0.016402816399931908\t |\t Test loss: 0.06324949115514755\n",
            "Epoch: 34\t |\t Test: 0.026889637112617493\t |\t Test loss: 0.0778672993183136\n",
            "Epoch: 35\t |\t Test: 0.03459761664271355\t |\t Test loss: 0.088309645652771\n",
            "Epoch: 36\t |\t Test: 0.03963126242160797\t |\t Test loss: 0.09701548516750336\n",
            "Epoch: 37\t |\t Test: 0.04214619845151901\t |\t Test loss: 0.10227406024932861\n",
            "Epoch: 38\t |\t Test: 0.0425780788064003\t |\t Test loss: 0.1006915420293808\n",
            "Epoch: 39\t |\t Test: 0.04108356684446335\t |\t Test loss: 0.09114612638950348\n",
            "Epoch: 40\t |\t Test: 0.037691641598939896\t |\t Test loss: 0.07639765739440918\n",
            "---------------------------------------------------------------------\n",
            "weight:0.9\t |\t bias: 0.2\n",
            "---------------------------------------------------------------------\n",
            "Epoch: 41\t |\t Test: 0.03272787854075432\t |\t Test loss: 0.058933865278959274\n",
            "Epoch: 42\t |\t Test: 0.02641051448881626\t |\t Test loss: 0.042902808636426926\n",
            "Epoch: 43\t |\t Test: 0.01867380365729332\t |\t Test loss: 0.02628781832754612\n",
            "Epoch: 44\t |\t Test: 0.009995882399380207\t |\t Test loss: 0.004045626614242792\n",
            "Epoch: 45\t |\t Test: 0.0033667839597910643\t |\t Test loss: 0.030395735055208206\n",
            "Epoch: 46\t |\t Test: 0.04250379651784897\t |\t Test loss: 0.003374442458152771\n",
            "Epoch: 47\t |\t Test: 0.030868753790855408\t |\t Test loss: 0.08026895672082901\n",
            "Epoch: 48\t |\t Test: 0.02830793894827366\t |\t Test loss: 0.12161068618297577\n",
            "Epoch: 49\t |\t Test: 0.04762739688158035\t |\t Test loss: 0.11771172285079956\n",
            "Epoch: 50\t |\t Test: 0.04289017245173454\t |\t Test loss: 0.08153396844863892\n",
            "---------------------------------------------------------------------\n",
            "weight:0.5\t |\t bias: 0.4\n",
            "---------------------------------------------------------------------\n",
            "Epoch: 51\t |\t Test: 0.03081686794757843\t |\t Test loss: 0.03684239834547043\n",
            "Epoch: 52\t |\t Test: 0.03564629703760147\t |\t Test loss: 0.01834220252931118\n",
            "Epoch: 53\t |\t Test: 0.04341975972056389\t |\t Test loss: 0.03971409797668457\n",
            "Epoch: 54\t |\t Test: 0.030570607632398605\t |\t Test loss: 0.07243677973747253\n",
            "Epoch: 55\t |\t Test: 0.0265023373067379\t |\t Test loss: 0.08704042434692383\n",
            "Epoch: 56\t |\t Test: 0.03145437687635422\t |\t Test loss: 0.06969988346099854\n",
            "Epoch: 57\t |\t Test: 0.025187060236930847\t |\t Test loss: 0.02442726492881775\n",
            "Epoch: 58\t |\t Test: 0.0124571043998003\t |\t Test loss: 0.014412075281143188\n",
            "Epoch: 59\t |\t Test: 0.024720700457692146\t |\t Test loss: 0.0061120688915252686\n",
            "Epoch: 60\t |\t Test: 0.008206759579479694\t |\t Test loss: 0.041524823755025864\n",
            "---------------------------------------------------------------------\n",
            "weight:0.7\t |\t bias: 0.3\n",
            "---------------------------------------------------------------------\n",
            "Epoch: 61\t |\t Test: 0.03795703500509262\t |\t Test loss: 0.04306808114051819\n",
            "Epoch: 62\t |\t Test: 0.04678427800536156\t |\t Test loss: 0.005709868855774403\n",
            "Epoch: 63\t |\t Test: 0.02433208003640175\t |\t Test loss: 0.06465644389390945\n",
            "Epoch: 64\t |\t Test: 0.025395285338163376\t |\t Test loss: 0.09618982672691345\n",
            "Epoch: 65\t |\t Test: 0.04486393183469772\t |\t Test loss: 0.0879642441868782\n",
            "Epoch: 66\t |\t Test: 0.03553231060504913\t |\t Test loss: 0.049052972346544266\n",
            "Epoch: 67\t |\t Test: 0.018787404522299767\t |\t Test loss: 0.005218637175858021\n",
            "Epoch: 68\t |\t Test: 0.03186945244669914\t |\t Test loss: 0.0035948841832578182\n",
            "Epoch: 69\t |\t Test: 0.03482000157237053\t |\t Test loss: 0.03152179718017578\n",
            "Epoch: 70\t |\t Test: 0.018730591982603073\t |\t Test loss: 0.06418626010417938\n",
            "---------------------------------------------------------------------\n",
            "weight:0.8\t |\t bias: 0.3\n",
            "---------------------------------------------------------------------\n",
            "Epoch: 71\t |\t Test: 0.02264413796365261\t |\t Test loss: 0.0730779767036438\n",
            "Epoch: 72\t |\t Test: 0.02851184643805027\t |\t Test loss: 0.052290719002485275\n",
            "Epoch: 73\t |\t Test: 0.018882010132074356\t |\t Test loss: 0.010080230422317982\n",
            "Epoch: 74\t |\t Test: 0.012095826677978039\t |\t Test loss: 0.00992486160248518\n",
            "Epoch: 75\t |\t Test: 0.020049836486577988\t |\t Test loss: 0.005711662583053112\n",
            "Epoch: 76\t |\t Test: 0.003593992441892624\t |\t Test loss: 0.025431489571928978\n",
            "Epoch: 77\t |\t Test: 0.020127881318330765\t |\t Test loss: 0.009676056914031506\n",
            "Epoch: 78\t |\t Test: 0.014433885924518108\t |\t Test loss: 0.037060439586639404\n",
            "Epoch: 79\t |\t Test: 0.015772506594657898\t |\t Test loss: 0.0478338822722435\n",
            "Epoch: 80\t |\t Test: 0.019515037536621094\t |\t Test loss: 0.02837248519062996\n",
            "---------------------------------------------------------------------\n",
            "weight:0.6\t |\t bias: 0.3\n",
            "---------------------------------------------------------------------\n",
            "Epoch: 81\t |\t Test: 0.011085644364356995\t |\t Test loss: 0.0033730745781213045\n",
            "Epoch: 82\t |\t Test: 0.019720200449228287\t |\t Test loss: 0.01250483375042677\n",
            "Epoch: 83\t |\t Test: 0.014791768975555897\t |\t Test loss: 0.03767266869544983\n",
            "Epoch: 84\t |\t Test: 0.013359579257667065\t |\t Test loss: 0.04607308655977249\n",
            "Epoch: 85\t |\t Test: 0.016953375190496445\t |\t Test loss: 0.030269011855125427\n",
            "Epoch: 86\t |\t Test: 0.010617958381772041\t |\t Test loss: 0.0013379513984546065\n",
            "Epoch: 87\t |\t Test: 0.012343520298600197\t |\t Test loss: 0.0026277513243258\n",
            "Epoch: 88\t |\t Test: 0.005124975461512804\t |\t Test loss: 0.029467886313796043\n",
            "Epoch: 89\t |\t Test: 0.02029431238770485\t |\t Test loss: 0.022354912012815475\n",
            "Epoch: 90\t |\t Test: 0.0191348847001791\t |\t Test loss: 0.014687985181808472\n",
            "---------------------------------------------------------------------\n",
            "weight:0.7\t |\t bias: 0.3\n",
            "---------------------------------------------------------------------\n",
            "Epoch: 91\t |\t Test: 0.005635289940983057\t |\t Test loss: 0.02316070720553398\n",
            "Epoch: 92\t |\t Test: 0.009553025476634502\t |\t Test loss: 0.003141301916912198\n",
            "Epoch: 93\t |\t Test: 0.007408748380839825\t |\t Test loss: 0.010126536712050438\n",
            "Epoch: 94\t |\t Test: 0.005603838246315718\t |\t Test loss: 0.018744979053735733\n",
            "Epoch: 95\t |\t Test: 0.00661454489454627\t |\t Test loss: 0.008270883932709694\n",
            "Epoch: 96\t |\t Test: 0.0034755680244416\t |\t Test loss: 0.006187337450683117\n",
            "Epoch: 97\t |\t Test: 0.006833154708147049\t |\t Test loss: 0.011095178313553333\n",
            "Epoch: 98\t |\t Test: 0.0104469433426857\t |\t Test loss: 0.0034793615341186523\n",
            "Epoch: 99\t |\t Test: 0.0034644915722310543\t |\t Test loss: 0.029566705226898193\n",
            "Epoch: 100\t |\t Test: 0.014939645305275917\t |\t Test loss: 0.023085594177246094\n",
            "---------------------------------------------------------------------\n",
            "weight:0.7\t |\t bias: 0.3\n",
            "---------------------------------------------------------------------\n",
            "Model training and testing completed\n"
          ]
        }
      ]
    },
    {
      "cell_type": "code",
      "source": [
        "with torch.no_grad():\n",
        "  y_pred = model(X_test)\n",
        "y_pred"
      ],
      "metadata": {
        "colab": {
          "base_uri": "https://localhost:8080/"
        },
        "id": "KjsZ6GJR9o1k",
        "outputId": "edc9cfd9-d70e-4356-f9bc-075669a8da47"
      },
      "execution_count": null,
      "outputs": [
        {
          "output_type": "execute_result",
          "data": {
            "text/plain": [
              "tensor([0.8397, 0.8464, 0.8531, 0.8598, 0.8665, 0.8732, 0.8799, 0.8867, 0.8934,\n",
              "        0.9001, 0.9068, 0.9135, 0.9202, 0.9269, 0.9336, 0.9403, 0.9470, 0.9537,\n",
              "        0.9604, 0.9671])"
            ]
          },
          "metadata": {},
          "execution_count": 9
        }
      ]
    },
    {
      "cell_type": "code",
      "source": [
        "y_pred = torch.abs(y_pred)\n",
        "y_pred"
      ],
      "metadata": {
        "colab": {
          "base_uri": "https://localhost:8080/"
        },
        "id": "ZIptTq9999hC",
        "outputId": "7439068b-dc4a-4385-a315-2d333999c8ce"
      },
      "execution_count": null,
      "outputs": [
        {
          "output_type": "execute_result",
          "data": {
            "text/plain": [
              "tensor([0.8397, 0.8464, 0.8531, 0.8598, 0.8665, 0.8732, 0.8799, 0.8867, 0.8934,\n",
              "        0.9001, 0.9068, 0.9135, 0.9202, 0.9269, 0.9336, 0.9403, 0.9470, 0.9537,\n",
              "        0.9604, 0.9671])"
            ]
          },
          "metadata": {},
          "execution_count": 10
        }
      ]
    },
    {
      "cell_type": "code",
      "source": [
        "y_test"
      ],
      "metadata": {
        "colab": {
          "base_uri": "https://localhost:8080/"
        },
        "id": "gwRDEUbL9_Wp",
        "outputId": "075766cc-1e81-4108-c865-0d94cd240c55"
      },
      "execution_count": null,
      "outputs": [
        {
          "output_type": "execute_result",
          "data": {
            "text/plain": [
              "tensor([0.8600, 0.8670, 0.8740, 0.8810, 0.8880, 0.8950, 0.9020, 0.9090, 0.9160,\n",
              "        0.9230, 0.9300, 0.9370, 0.9440, 0.9510, 0.9580, 0.9650, 0.9720, 0.9790,\n",
              "        0.9860, 0.9930])"
            ]
          },
          "metadata": {},
          "execution_count": 11
        }
      ]
    },
    {
      "cell_type": "code",
      "source": [
        "plt.scatter(X_train, y_train, c = 'b', s = 4, label = \"Training data\")\n",
        "plt.scatter(X_test, y_test, c = 'g', s = 4, label = \"Testing data\")\n",
        "plt.scatter(X_test, y_pred, c = 'r', s = 4, label = 'Predicted data')\n",
        "plt.legend();"
      ],
      "metadata": {
        "colab": {
          "base_uri": "https://localhost:8080/",
          "height": 430
        },
        "id": "SVNiQ52M-HCv",
        "outputId": "c6655f89-a4d5-477a-c130-a9acf4cacedd"
      },
      "execution_count": null,
      "outputs": [
        {
          "output_type": "display_data",
          "data": {
            "text/plain": [
              "<Figure size 640x480 with 1 Axes>"
            ],
            "image/png": "[encoded data removed]"
          },
          "metadata": {}
        }
      ]
    },
    {
      "cell_type": "code",
      "source": [
        "wb = list(model.parameters())\n",
        "w, b = wb\n",
        "w, b = round(float(w),1), round(float(b),1)\n",
        "w, b"
      ],
      "metadata": {
        "colab": {
          "base_uri": "https://localhost:8080/"
        },
        "id": "ifSwLO9K-yPE",
        "outputId": "aed4a8c8-50da-408b-cf48-1f1f5a82d61d"
      },
      "execution_count": null,
      "outputs": [
        {
          "output_type": "execute_result",
          "data": {
            "text/plain": [
              "(0.7, 0.3)"
            ]
          },
          "metadata": {},
          "execution_count": 13
        }
      ]
    },
    {
      "cell_type": "code",
      "source": [
        "weight, bias"
      ],
      "metadata": {
        "colab": {
          "base_uri": "https://localhost:8080/"
        },
        "id": "tbiCj8mC_co9",
        "outputId": "bfc6d381-c9a9-4474-962b-ed10abd4d482"
      },
      "execution_count": null,
      "outputs": [
        {
          "output_type": "execute_result",
          "data": {
            "text/plain": [
              "(0.7, 0.3)"
            ]
          },
          "metadata": {},
          "execution_count": 14
        }
      ]
    },
    {
      "cell_type": "code",
      "source": [
        "model.state_dict()"
      ],
      "metadata": {
        "colab": {
          "base_uri": "https://localhost:8080/"
        },
        "id": "1F4CHgB71K0-",
        "outputId": "02006ec3-315f-4b2e-aabd-dcd50f371f99"
      },
      "execution_count": null,
      "outputs": [
        {
          "output_type": "execute_result",
          "data": {
            "text/plain": [
              "OrderedDict([('w', tensor([0.6704])), ('b', tensor([0.3034]))])"
            ]
          },
          "metadata": {},
          "execution_count": 15
        }
      ]
    },
    {
      "cell_type": "code",
      "source": [
        "torch.save(model.state_dict(),\"/content/drive/MyDrive/Colab Notebooks/Model_0.pth\")"
      ],
      "metadata": {
        "id": "xn1pvQBC_xP0"
      },
      "execution_count": null,
      "outputs": []
    },
    {
      "cell_type": "code",
      "source": [
        "loaded_model_0 = Model()\n",
        "\n",
        "# Load the state_dict of our saved model (this will update the new instance of our model with trained weights)\n",
        "loaded_model_0.load_state_dict(torch.load(f=\"/content/drive/MyDrive/Colab Notebooks/Model_0.pth\"))"
      ],
      "metadata": {
        "colab": {
          "base_uri": "https://localhost:8080/"
        },
        "id": "L0_pHyQ91vVM",
        "outputId": "4fd3819c-ec43-4aa1-c4e6-d27700780aab"
      },
      "execution_count": null,
      "outputs": [
        {
          "output_type": "execute_result",
          "data": {
            "text/plain": [
              "<All keys matched successfully>"
            ]
          },
          "metadata": {},
          "execution_count": 17
        }
      ]
    },
    {
      "cell_type": "code",
      "source": [
        "loaded_model_0.eval()\n",
        "\n",
        "with torch.no_grad():\n",
        "  load_pred = loaded_model_0(X_test)"
      ],
      "metadata": {
        "id": "runmp0rQ2BGs"
      },
      "execution_count": null,
      "outputs": []
    },
    {
      "cell_type": "code",
      "source": [
        "torch.tensor(load_pred == y_pred).unsqueeze(1)"
      ],
      "metadata": {
        "colab": {
          "base_uri": "https://localhost:8080/"
        },
        "id": "b6QRjs2I2Hds",
        "outputId": "4f38e4ed-d827-4fe0-ce72-3ab393aeb4f9"
      },
      "execution_count": null,
      "outputs": [
        {
          "output_type": "stream",
          "name": "stderr",
          "text": [
            "<ipython-input-23-b83a589bdae6>:1: UserWarning: To copy construct from a tensor, it is recommended to use sourceTensor.clone().detach() or sourceTensor.clone().detach().requires_grad_(True), rather than torch.tensor(sourceTensor).\n",
            "  torch.tensor(load_pred == y_pred).unsqueeze(1)\n"
          ]
        },
        {
          "output_type": "execute_result",
          "data": {
            "text/plain": [
              "tensor([[True],\n",
              "        [True],\n",
              "        [True],\n",
              "        [True],\n",
              "        [True],\n",
              "        [True],\n",
              "        [True],\n",
              "        [True],\n",
              "        [True],\n",
              "        [True],\n",
              "        [True],\n",
              "        [True],\n",
              "        [True],\n",
              "        [True],\n",
              "        [True],\n",
              "        [True],\n",
              "        [True],\n",
              "        [True],\n",
              "        [True],\n",
              "        [True]])"
            ]
          },
          "metadata": {},
          "execution_count": 23
        }
      ]
    },
    {
      "cell_type": "markdown",
      "source": [
        "# Linear Model with 1 Linear layer of torch"
      ],
      "metadata": {
        "id": "d9qG898y2ZPw"
      }
    },
    {
      "cell_type": "code",
      "source": [
        "import torch\n",
        "from torch import nn\n",
        "import matplotlib.pyplot as plt"
      ],
      "metadata": {
        "id": "Ha5h4Bs63vXT"
      },
      "execution_count": null,
      "outputs": []
    },
    {
      "cell_type": "code",
      "source": [
        "weight = 0.7\n",
        "bias = 0.3\n",
        "\n",
        "X = torch.arange(0,1,0.02).unsqueeze(1)\n",
        "y = X * weight + bias"
      ],
      "metadata": {
        "id": "gjmCHHlz9LFs"
      },
      "execution_count": null,
      "outputs": []
    },
    {
      "cell_type": "code",
      "source": [
        "length = int(0.8*len(X))\n",
        "X_train, y_train= X[:length], y [:length]\n",
        "X_test, y_test = X[length:], y[length:]"
      ],
      "metadata": {
        "id": "dsGr7xS7JeVS"
      },
      "execution_count": null,
      "outputs": []
    },
    {
      "cell_type": "code",
      "source": [
        "class LinearModel(nn.Module):\n",
        "  def __init__(self):\n",
        "    super().__init__()\n",
        "    self.linear_layer = nn.Linear(in_features=1, out_features=1)\n",
        "  def forward(self, X:torch.Tensor):\n",
        "    return self.linear_layer(X)\n"
      ],
      "metadata": {
        "id": "drXaGPel30p8"
      },
      "execution_count": null,
      "outputs": []
    },
    {
      "cell_type": "code",
      "source": [
        "torch.manual_seed(42)\n",
        "\n",
        "linear_model = LinearModel()\n",
        "linear_model.state_dict()"
      ],
      "metadata": {
        "colab": {
          "base_uri": "https://localhost:8080/"
        },
        "id": "_w5o-zI836tk",
        "outputId": "0655a20c-7528-4761-8370-d844d0683542"
      },
      "execution_count": null,
      "outputs": [
        {
          "output_type": "execute_result",
          "data": {
            "text/plain": [
              "OrderedDict([('linear_layer.weight', tensor([[0.7645]])),\n",
              "             ('linear_layer.bias', tensor([0.8300]))])"
            ]
          },
          "metadata": {},
          "execution_count": 51
        }
      ]
    },
    {
      "cell_type": "code",
      "source": [
        "loss_fn = nn.L1Loss()\n",
        "optimizer = torch.optim.Adam(params = linear_model.parameters(), lr = 0.1)"
      ],
      "metadata": {
        "id": "LrVsmXGt5Ypp"
      },
      "execution_count": null,
      "outputs": []
    },
    {
      "cell_type": "code",
      "source": [
        "epochs = 100\n",
        "\n",
        "for _ in range(epochs):\n",
        "  linear_model.train()\n",
        "  pred = linear_model(X_train)\n",
        "  loss = loss_fn(pred, y_train)\n",
        "  optimizer.zero_grad()\n",
        "  loss.backward()\n",
        "  optimizer.step()\n",
        "  linear_model.eval()"
      ],
      "metadata": {
        "id": "3sMYNq0E4xpZ"
      },
      "execution_count": null,
      "outputs": []
    },
    {
      "cell_type": "code",
      "source": [
        "with torch.no_grad():\n",
        "  y_pred = linear_model(X_test)\n"
      ],
      "metadata": {
        "id": "j1i6sAtv6Ea8"
      },
      "execution_count": null,
      "outputs": []
    },
    {
      "cell_type": "code",
      "source": [
        "y_pred"
      ],
      "metadata": {
        "colab": {
          "base_uri": "https://localhost:8080/"
        },
        "id": "zHY4BqRAKNJg",
        "outputId": "61e9f655-0d1c-49e5-ee12-1945106315e0"
      },
      "execution_count": null,
      "outputs": [
        {
          "output_type": "execute_result",
          "data": {
            "text/plain": [
              "tensor([[0.8584],\n",
              "        [0.8723],\n",
              "        [0.8861],\n",
              "        [0.9000],\n",
              "        [0.9138],\n",
              "        [0.9277],\n",
              "        [0.9415],\n",
              "        [0.9553],\n",
              "        [0.9692],\n",
              "        [0.9830]])"
            ]
          },
          "metadata": {},
          "execution_count": 63
        }
      ]
    },
    {
      "cell_type": "code",
      "source": [
        "y_test"
      ],
      "metadata": {
        "colab": {
          "base_uri": "https://localhost:8080/"
        },
        "id": "VWrhS4yJKPc5",
        "outputId": "65e29d4b-6c0c-46e6-809b-6814b1532b7f"
      },
      "execution_count": null,
      "outputs": [
        {
          "output_type": "execute_result",
          "data": {
            "text/plain": [
              "tensor([[0.8600],\n",
              "        [0.8740],\n",
              "        [0.8880],\n",
              "        [0.9020],\n",
              "        [0.9160],\n",
              "        [0.9300],\n",
              "        [0.9440],\n",
              "        [0.9580],\n",
              "        [0.9720],\n",
              "        [0.9860]])"
            ]
          },
          "metadata": {},
          "execution_count": 64
        }
      ]
    },
    {
      "cell_type": "code",
      "source": [
        "list(linear_model.parameters())"
      ],
      "metadata": {
        "colab": {
          "base_uri": "https://localhost:8080/"
        },
        "id": "1SrVy7SJKQxq",
        "outputId": "34926f7f-66ea-47a0-8093-352835c12b08"
      },
      "execution_count": null,
      "outputs": [
        {
          "output_type": "execute_result",
          "data": {
            "text/plain": [
              "[Parameter containing:\n",
              " tensor([[0.6921]], requires_grad=True),\n",
              " Parameter containing:\n",
              " tensor([0.3048], requires_grad=True)]"
            ]
          },
          "metadata": {},
          "execution_count": 65
        }
      ]
    },
    {
      "cell_type": "markdown",
      "source": [
        "# New Torch"
      ],
      "metadata": {
        "id": "fxqvyhMoKzE2"
      }
    },
    {
      "cell_type": "code",
      "source": [
        "import torch\n",
        "from torch import nn\n",
        "import matplotlib.pyplot as plt"
      ],
      "metadata": {
        "id": "6JKfDt8p_Bxz"
      },
      "execution_count": null,
      "outputs": []
    },
    {
      "cell_type": "code",
      "source": [
        "X = torch.arange(0,100,2, dtype = torch.float).unsqueeze(1)\n",
        "y = 1.0 * X + 2.0\n",
        "\n",
        "split = int(len(X)*0.8)\n",
        "X_train, y_train = X[:split], y[:split]\n",
        "X_test, y_test = X[split:], y[split:]"
      ],
      "metadata": {
        "id": "C6H39tsoLPn-"
      },
      "execution_count": null,
      "outputs": []
    },
    {
      "cell_type": "code",
      "source": [
        "class Model(nn.Module):\n",
        "  def __init__(self):\n",
        "    super().__init__()\n",
        "    self.weight = nn.Parameter(torch.randn(1,dtype = torch.float, requires_grad=True))\n",
        "    self.bias = nn.Parameter(torch.randn(1,dtype = torch.float, requires_grad=True))\n",
        "  def forward(self, X:torch.Tensor) -> torch.Tensor:\n",
        "    return self.weight * X + self.bias"
      ],
      "metadata": {
        "id": "1Ob5k_TiFcWI"
      },
      "execution_count": null,
      "outputs": []
    },
    {
      "cell_type": "code",
      "source": [
        "model = Model()"
      ],
      "metadata": {
        "id": "ohXoW9e7FgT-"
      },
      "execution_count": null,
      "outputs": []
    },
    {
      "cell_type": "code",
      "source": [
        "loss_fn = nn.L1Loss()\n",
        "optimizer = torch.optim.Adam(params = model.parameters(), lr = 0.1)"
      ],
      "metadata": {
        "id": "JPHZRCvoHBDs"
      },
      "execution_count": null,
      "outputs": []
    },
    {
      "cell_type": "code",
      "source": [
        "epochs = 100\n",
        "\n",
        "for _ in range(epochs):\n",
        "  model.train()\n",
        "  pred = model(X_train)\n",
        "  loss = loss_fn(pred, y_train)\n",
        "  optimizer.zero_grad()\n",
        "  loss.backward()\n",
        "  optimizer.step()\n",
        "  model.eval()"
      ],
      "metadata": {
        "id": "DFaGNKA8Ke5P"
      },
      "execution_count": null,
      "outputs": []
    },
    {
      "cell_type": "code",
      "source": [
        "with torch.no_grad():\n",
        "  y_pred = model(X_test)"
      ],
      "metadata": {
        "id": "EdIGmxEgK3_E"
      },
      "execution_count": null,
      "outputs": []
    },
    {
      "cell_type": "code",
      "source": [
        "y_pred"
      ],
      "metadata": {
        "colab": {
          "base_uri": "https://localhost:8080/"
        },
        "id": "ZIUO78d6MWI3",
        "outputId": "13e996d4-424c-449a-c699-839a44850286"
      },
      "execution_count": null,
      "outputs": [
        {
          "output_type": "execute_result",
          "data": {
            "text/plain": [
              "tensor([[ 82.5441],\n",
              "        [ 84.5790],\n",
              "        [ 86.6138],\n",
              "        [ 88.6487],\n",
              "        [ 90.6835],\n",
              "        [ 92.7183],\n",
              "        [ 94.7532],\n",
              "        [ 96.7880],\n",
              "        [ 98.8229],\n",
              "        [100.8577]])"
            ]
          },
          "metadata": {},
          "execution_count": 93
        }
      ]
    },
    {
      "cell_type": "code",
      "source": [
        "y_test"
      ],
      "metadata": {
        "colab": {
          "base_uri": "https://localhost:8080/"
        },
        "id": "G-GaLXE9MXtR",
        "outputId": "9d2386b4-9193-4470-aac3-e280c9ff77e9"
      },
      "execution_count": null,
      "outputs": [
        {
          "output_type": "execute_result",
          "data": {
            "text/plain": [
              "tensor([[ 82.],\n",
              "        [ 84.],\n",
              "        [ 86.],\n",
              "        [ 88.],\n",
              "        [ 90.],\n",
              "        [ 92.],\n",
              "        [ 94.],\n",
              "        [ 96.],\n",
              "        [ 98.],\n",
              "        [100.]])"
            ]
          },
          "metadata": {},
          "execution_count": 94
        }
      ]
    },
    {
      "cell_type": "code",
      "source": [
        "plt.scatter(X_train, y_train, c = 'b', label = \"Training data\", s = 4)\n",
        "plt.scatter(X_test, y_test , c = 'g', label = \"Testing data\", s = 4)\n",
        "plt.scatter(X_test, y_pred, c = 'r', label = \"Predicting data\", s = 4)\n",
        "plt.legend()\n",
        "plt.show();"
      ],
      "metadata": {
        "colab": {
          "base_uri": "https://localhost:8080/",
          "height": 430
        },
        "id": "cmWoDg10MZX5",
        "outputId": "37caa894-cf57-4048-ae34-227b7b8cda71"
      },
      "execution_count": null,
      "outputs": [
        {
          "output_type": "display_data",
          "data": {
            "text/plain": [
              "<Figure size 640x480 with 1 Axes>"
            ],
            "image/png": "[encoded data removed]"
          },
          "metadata": {}
        }
      ]
    },
    {
      "cell_type": "code",
      "source": [
        "class Model2(nn.Module):\n",
        "  def __init__(self):\n",
        "    super().__init__()\n",
        "    self.linear = nn.Linear(in_features=1,out_features=3)\n",
        "    self.linear2 = nn.Linear(in_features=3,out_features=1)\n",
        "  def forward(self, X:torch.Tensor)-> torch.Tensor:\n",
        "    return self.linear2(self.linear(X))"
      ],
      "metadata": {
        "id": "BxhjDKojM0gO"
      },
      "execution_count": null,
      "outputs": []
    },
    {
      "cell_type": "code",
      "source": [
        "model2 = Model2()\n",
        "loss_fn = nn.L1Loss()\n",
        "optimizer = torch.optim.Adam(params = model2.parameters(), lr = 0.1)"
      ],
      "metadata": {
        "id": "W8M67yIsOCvN"
      },
      "execution_count": null,
      "outputs": []
    },
    {
      "cell_type": "code",
      "source": [
        "model3 = nn.Sequential(\n",
        "  nn.Linear(1,10),\n",
        "  nn.ReLU(),\n",
        "  nn.Linear(10,5),\n",
        "  nn.ReLU(),\n",
        "  nn.Linear(5,1)\n",
        "  )"
      ],
      "metadata": {
        "id": "Ho0cf0XUPBVh"
      },
      "execution_count": null,
      "outputs": []
    },
    {
      "cell_type": "code",
      "source": [
        "epochs = 200\n",
        "\n",
        "for _ in range(epochs):\n",
        "  model3.train()\n",
        "  pred = model3(X_train)\n",
        "  loss = loss_fn(pred, y_train)\n",
        "  optimizer.zero_grad()\n",
        "  loss.backward()\n",
        "  optimizer.step()\n",
        "  model.eval()"
      ],
      "metadata": {
        "id": "fiGms8oGN0r6"
      },
      "execution_count": null,
      "outputs": []
    },
    {
      "cell_type": "code",
      "source": [
        "with torch.no_grad():\n",
        "  y_pred = model(X_test)"
      ],
      "metadata": {
        "id": "_3Uthq9AN90i"
      },
      "execution_count": null,
      "outputs": []
    },
    {
      "cell_type": "code",
      "source": [
        "plt.scatter(X_train, y_train, c = 'b', label = \"Training data\", s = 4)\n",
        "plt.scatter(X_test, y_test , c = 'g', label = \"Testing data\", s = 4)\n",
        "plt.scatter(X_test, y_pred, c = 'r', label = \"Predicting data\", s = 4)\n",
        "plt.legend()\n",
        "plt.show();"
      ],
      "metadata": {
        "colab": {
          "base_uri": "https://localhost:8080/",
          "height": 430
        },
        "id": "AYD6fVuXOjvx",
        "outputId": "0ecc59f4-7a3e-44c9-b972-e4c9cb56e972"
      },
      "execution_count": null,
      "outputs": [
        {
          "output_type": "display_data",
          "data": {
            "text/plain": [
              "<Figure size 640x480 with 1 Axes>"
            ],
            "image/png": "[encoded data removed]"
          },
          "metadata": {}
        }
      ]
    },
    {
      "cell_type": "code",
      "source": [
        "from pathlib import Path\n",
        "\n",
        "# 1. Create models directory\n",
        "MODEL_PATH = Path(\"models\")\n",
        "MODEL_PATH.mkdir(parents=True, exist_ok=True)\n",
        "\n",
        "# 2. Create model save path\n",
        "MODEL_NAME = \"model_3.pth\"\n",
        "MODEL_SAVE_PATH = MODEL_PATH / MODEL_NAME\n",
        "\n",
        "# 3. Save the model state dict\n",
        "print(f\"Saving model to: {MODEL_SAVE_PATH}\")\n",
        "torch.save(obj=model.state_dict(), # only saving the state_dict() only saves the models learned parameters\n",
        "           f=MODEL_SAVE_PATH)"
      ],
      "metadata": {
        "colab": {
          "base_uri": "https://localhost:8080/"
        },
        "id": "-OOq4G37OpBQ",
        "outputId": "fc5809d9-968b-4e75-bb7c-3fa2bc0a1f9c"
      },
      "execution_count": null,
      "outputs": [
        {
          "output_type": "stream",
          "name": "stdout",
          "text": [
            "Saving model to: models/model_3.pth\n"
          ]
        }
      ]
    },
    {
      "cell_type": "code",
      "source": [
        "model_4 = Model()"
      ],
      "metadata": {
        "id": "eQuhwE7_Ucdz"
      },
      "execution_count": null,
      "outputs": []
    },
    {
      "cell_type": "code",
      "source": [
        "model_4.load_state_dict(torch.load(f=MODEL_SAVE_PATH))"
      ],
      "metadata": {
        "colab": {
          "base_uri": "https://localhost:8080/"
        },
        "id": "m1m1LnI5UtHl",
        "outputId": "28185f0a-81b5-40ab-c60d-e5e45a327e92"
      },
      "execution_count": null,
      "outputs": [
        {
          "output_type": "execute_result",
          "data": {
            "text/plain": [
              "<All keys matched successfully>"
            ]
          },
          "metadata": {},
          "execution_count": 107
        }
      ]
    },
    {
      "cell_type": "code",
      "source": [
        "# 1. Put the loaded model into evaluation mode\n",
        "model_4.eval()\n",
        "\n",
        "# 2. Use the inference mode context manager to make predictions\n",
        "with torch.inference_mode():\n",
        "    loaded_model_preds = model_4(X_test) # perform a forward pass on the test data with the loaded model"
      ],
      "metadata": {
        "id": "WbUNX3fqUzy1"
      },
      "execution_count": null,
      "outputs": []
    },
    {
      "cell_type": "code",
      "source": [
        "loaded_model_preds == y_pred"
      ],
      "metadata": {
        "colab": {
          "base_uri": "https://localhost:8080/"
        },
        "id": "hA9Z1aQCU_zs",
        "outputId": "8209498a-7aa5-43ba-a13c-eae1b8e1c70c"
      },
      "execution_count": null,
      "outputs": [
        {
          "output_type": "execute_result",
          "data": {
            "text/plain": [
              "tensor([[True],\n",
              "        [True],\n",
              "        [True],\n",
              "        [True],\n",
              "        [True],\n",
              "        [True],\n",
              "        [True],\n",
              "        [True],\n",
              "        [True],\n",
              "        [True]])"
            ]
          },
          "metadata": {},
          "execution_count": 109
        }
      ]
    },
    {
      "cell_type": "code",
      "source": [
        "model.state_dict(), model_4.state_dict()"
      ],
      "metadata": {
        "colab": {
          "base_uri": "https://localhost:8080/"
        },
        "id": "fk8TujCF15_Z",
        "outputId": "f19692eb-9ca3-4dba-fa21-9ffd0dc00e0b"
      },
      "execution_count": null,
      "outputs": [
        {
          "output_type": "execute_result",
          "data": {
            "text/plain": [
              "(OrderedDict([('weight', tensor([1.0174])), ('bias', tensor([1.1506]))]),\n",
              " OrderedDict([('weight', tensor([1.0174])), ('bias', tensor([1.1506]))]))"
            ]
          },
          "metadata": {},
          "execution_count": 110
        }
      ]
    }
  ]
}